{
 "cells": [
  {
   "cell_type": "code",
   "execution_count": null,
   "metadata": {},
   "outputs": [],
   "source": [
    "#Creación de la BD\n",
    "\n",
    "import pandas as pd\n",
    "from sqlalchemy import create_engine, text\n",
    "from sqlalchemy.engine import url\n",
    "\n",
    "#Conexion a la BD\n",
    "#server = '192.168.1.33,1433'\n",
    "#name = 'master' \n",
    "#User = 'Laura'\n",
    "#password = dapt4\n",
    "\n",
    "#Creacón del motor de conexión\n",
    "engine = create_engine(conection_url, insolation_level='Auto')\n",
    "\n",
    "#Nombre de la base de datos\n",
    "DBname = 'ElixirEmporium'\n",
    "\n",
    "#Creación de la BD usando comando SQL\n",
    "sql_create_db = text (\"Create database {DBname};\")\n",
    "\n",
    "#Conectar y ejecutar comando SQL\n",
    "try\n",
    "    with engine.connect() as connection;\n",
    "        connection.execute(sql_create_db)\n",
    "        print(\"Base de datos '{DBname}' creada con éxito\")\n",
    "except Exception as i:\n",
    "    print(\"Se ha generado un error al crear la base de datos: {i}\")\n",
    "finally\n",
    "    engine.dispose()"
   ]
  },
  {
   "cell_type": "code",
   "execution_count": null,
   "metadata": {},
   "outputs": [],
   "source": [
    "import pandas as pd\n",
    "from sqlalchemy import create_engine, text\n",
    "import pyodbc\n",
    "\n",
    "#Conexion a la BD\n",
    "#server = '192.168.1.33,1433'\n",
    "#name = 'DBname' \n",
    "#User = 'Laura'\n",
    "#password = dapt4\n",
    "\n",
    "#connection_string = f\"mssql+pyodbc://{user}:{password}@{server}/{DBname}?driver=ODBC+Driver+17+for+SQL+Server\"\n",
    "# engine = create_engine(connection_string)\n",
    "\n",
    "#Creación de tablas\n",
    "invoice_purchases_df = pd.read_csv(\"rutadelarchivolimpio\")\n",
    "invoice_purchases_df.to_sql(\"InvoicePurchases12312016Rev\", con=engine, if_exists='replace', index=False)\n",
    "print(\"Tabla 'InvoicePurchases12312016Rev' creada y cargada con éxito\")\n",
    "\n",
    "engine.dispose()\n"
   ]
  }
 ],
 "metadata": {
  "kernelspec": {
   "display_name": "Python 3",
   "language": "python",
   "name": "python3"
  },
  "language_info": {
   "codemirror_mode": {
    "name": "ipython",
    "version": 3
   },
   "file_extension": ".py",
   "mimetype": "text/x-python",
   "name": "python",
   "nbconvert_exporter": "python",
   "pygments_lexer": "ipython3",
   "version": "3.13.0"
  }
 },
 "nbformat": 4,
 "nbformat_minor": 2
}
