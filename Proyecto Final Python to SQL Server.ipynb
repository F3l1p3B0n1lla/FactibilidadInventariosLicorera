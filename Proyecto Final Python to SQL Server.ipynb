{
 "cells": [
  {
   "cell_type": "markdown",
   "metadata": {
    "id": "1NPI5PsgffJg"
   },
   "source": [
    "## Proyecto Final"
   ]
  },
  {
   "cell_type": "markdown",
   "metadata": {
    "id": "L3QRoWE9ffJh"
   },
   "source": [
    "pip install pandas as pd\n",
    "pip install numpy as np\n",
    "pip install pandas pyodbc"
   ]
  },
  {
   "cell_type": "code",
   "execution_count": 7,
   "metadata": {
    "id": "mta7xA71TpuK"
   },
   "outputs": [],
   "source": [
    "# Carga de librerias\n",
    "import pandas as pd \n",
    "import numpy as np\n",
    "import pyodbc\n",
    "import os"
   ]
  },
  {
   "cell_type": "code",
   "execution_count": null,
   "metadata": {},
   "outputs": [],
   "source": [
    "# Configurar la conexion a SQL SERVER\n",
    "\n",
    "import pyodbc\n",
    "\n",
    "server = \"SERVIDOR_SQL\"  # Ejemplo: \"localhost\\SQLEXPRESS\"\n",
    "database = \"NOMBRE_BASE_DATOS\"\n",
    "username = \"USUARIO\"\n",
    "password = \"CONTRASEÑA\"\n",
    "driver = \"{SQL Server}\"\n",
    "\n",
    "# 🔄 Crear conexión\n",
    "conn = pyodbc.connect(\n",
    "    f\"DRIVER={driver};SERVER={server};DATABASE={database};UID={username};PWD={password}\"\n",
    ")\n",
    "cursor = conn.cursor()\n",
    "print(\"✅ Conexión exitosa a SQL Server\")"
   ]
  },
  {
   "cell_type": "code",
   "execution_count": 1,
   "metadata": {},
   "outputs": [
    {
     "name": "stderr",
     "output_type": "stream",
     "text": [
      "<>:3: SyntaxWarning: invalid escape sequence '\\P'\n",
      "<>:3: SyntaxWarning: invalid escape sequence '\\P'\n",
      "C:\\Users\\Cami\\AppData\\Local\\Temp\\ipykernel_33488\\2593329503.py:3: SyntaxWarning: invalid escape sequence '\\P'\n",
      "  ruta_carpeta = \"C:\\Proyecto final Python\"\n"
     ]
    }
   ],
   "source": [
    "# Importar multiples archivos CSV\n",
    "# 📂 Carpeta donde están los archivos CSV\n",
    "ruta_carpeta = \"C:\\Proyecto final Python\""
   ]
  },
  {
   "cell_type": "code",
   "execution_count": null,
   "metadata": {},
   "outputs": [],
   "source": [
    "# 🔄 Recorremos todos los archivos en la carpeta\n",
    "for archivo in os.listdir(\"C:\\Proyecto Final Henry\"):\n",
    "    if archivo.endswith(\".csv\") or archivo.endswith(\".xlsx\"):  # Verifica si es CSV o Excel\n",
    "        ruta_completa = os.path.join(\"C:\\Proyecto Final Henry\", archivo)\n",
    "        \n",
    "        # 📥 Cargar archivo CSV o Excel con Pandas\n",
    "        if archivo.endswith(\".csv\"):\n",
    "            df = pd.read_csv(ruta_completa)\n",
    "        else:\n",
    "            df = pd.read_excel(ruta_completa)\n",
    "\n",
    "        # 📌 Crear la tabla en SQL Server (opcional, si no existe)\n",
    "        nombre_tabla = archivo.split(\".\")[0]  # Eliminar la extensión del archivo\n",
    "        columnas = \", \".join([f\"[{col}]\" for col in df.columns])  # Formatear columnas\n",
    "        \n",
    "        sql_create = f\"CREATE TABLE {nombre_tabla} ({columnas} NVARCHAR(MAX))\"\n",
    "        try:\n",
    "            cursor.execute(sql_create)\n",
    "            conn.commit()\n",
    "            print(f\"🛠 Tabla {nombre_tabla} creada en SQL Server.\")\n",
    "        except:\n",
    "            print(f\"⚠️ La tabla {nombre_tabla} ya existe, insertando datos...\")\n",
    "\n",
    "        # 🔄 Insertar datos en la tabla\n",
    "        for _, row in df.iterrows():\n",
    "            valores = \"', '\".join(map(str, row))\n",
    "            sql_insert = f\"INSERT INTO {nombre_tabla} ({columnas}) VALUES ('{valores}')\"\n",
    "            cursor.execute(sql_insert)\n",
    "\n",
    "        conn.commit()\n",
    "        print(f\"✅ Datos de {archivo} insertados en {nombre_tabla}\")\n",
    "\n",
    "# Cerrar conexión\n",
    "cursor.close()\n",
    "conn.close()\n",
    "print(\"🚀 Importación finalizada\")"
   ]
  },
  {
   "cell_type": "code",
   "execution_count": 5,
   "metadata": {},
   "outputs": [
    {
     "name": "stdout",
     "output_type": "stream",
     "text": [
      "Hola mundo!\n"
     ]
    }
   ],
   "source": [
    "print(\"Hola mundo!\")\n"
   ]
  }
 ],
 "metadata": {
  "colab": {
   "provenance": []
  },
  "kernelspec": {
   "display_name": "Python 3",
   "language": "python",
   "name": "python3"
  },
  "language_info": {
   "codemirror_mode": {
    "name": "ipython",
    "version": 3
   },
   "file_extension": ".py",
   "mimetype": "text/x-python",
   "name": "python",
   "nbconvert_exporter": "python",
   "pygments_lexer": "ipython3",
   "version": "3.12.5"
  }
 },
 "nbformat": 4,
 "nbformat_minor": 0
}
